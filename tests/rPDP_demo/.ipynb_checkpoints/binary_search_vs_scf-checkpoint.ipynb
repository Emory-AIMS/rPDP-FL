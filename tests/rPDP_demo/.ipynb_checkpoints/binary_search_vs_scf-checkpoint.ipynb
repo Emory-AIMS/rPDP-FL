{
 "cells": [
  {
   "cell_type": "markdown",
   "metadata": {},
   "source": [
    "# Demo for the Simulation-CurveFitting Strategy \n",
    "Subsample type: Poisson subsampling (random subset size)\n",
    "\n",
    "Key params: \n",
    "- subsampling ratio for each individual (example) $q \\in [0,1.0]$: a sequence of pre-defined real numbers; \n",
    "- noise multiplier `sigma`: the normalized noise level $\\varepsilon$, i.e., std of Gaussian noise divided by global L2-norm sensitivity C;\n",
    "- `delta`: the target DP parameter $\\delta$."
   ]
  },
  {
   "cell_type": "code",
   "execution_count": 2,
   "metadata": {},
   "outputs": [
    {
     "ename": "NameError",
     "evalue": "name 'params' is not defined",
     "output_type": "error",
     "traceback": [
      "\u001b[0;31m---------------------------------------------------------------------------\u001b[0m",
      "\u001b[0;31mNameError\u001b[0m                                 Traceback (most recent call last)",
      "\u001b[0;32m/tmp/ipykernel_67522/660518858.py\u001b[0m in \u001b[0;36m<module>\u001b[0;34m\u001b[0m\n\u001b[1;32m     26\u001b[0m \u001b[0;34m\u001b[0m\u001b[0m\n\u001b[1;32m     27\u001b[0m \u001b[0mtotal_points\u001b[0m \u001b[0;34m=\u001b[0m \u001b[0;36m6000\u001b[0m\u001b[0;34m\u001b[0m\u001b[0;34m\u001b[0m\u001b[0m\n\u001b[0;32m---> 28\u001b[0;31m \u001b[0mtarget_epsilons\u001b[0m \u001b[0;34m=\u001b[0m \u001b[0mBoundedFunc\u001b[0m\u001b[0;34m(\u001b[0m\u001b[0mGENERATE_EPSILONS\u001b[0m\u001b[0;34m[\u001b[0m\u001b[0;34m\"BoundedMixGauss\"\u001b[0m\u001b[0;34m]\u001b[0m\u001b[0;34m(\u001b[0m\u001b[0mtotal_points\u001b[0m\u001b[0;34m,\u001b[0m \u001b[0mparams\u001b[0m\u001b[0;34m)\u001b[0m\u001b[0;34m)\u001b[0m\u001b[0;34m\u001b[0m\u001b[0;34m\u001b[0m\u001b[0m\n\u001b[0m\u001b[1;32m     29\u001b[0m \u001b[0mprint\u001b[0m\u001b[0;34m(\u001b[0m\u001b[0mtarget_budgets\u001b[0m\u001b[0;34m)\u001b[0m\u001b[0;34m\u001b[0m\u001b[0;34m\u001b[0m\u001b[0m\n",
      "\u001b[0;31mNameError\u001b[0m: name 'params' is not defined"
     ]
    }
   ],
   "source": [
    "# generate 6000 samples\n",
    "import time\n",
    "import numpy as np\n",
    "import sys\n",
    "sys.path.append('../..')\n",
    "\n",
    "from fedrpdp.utils.rpdp_utils import (\n",
    "    get_sample_rate_curve,\n",
    "    MultiLevels, \n",
    "    MixGauss, \n",
    "    Pareto,\n",
    ")\n",
    "\n",
    "GENERATE_EPSILONS = {\n",
    "    \"ThreeLevels\": lambda n, params: MultiLevels(3, *params, n),\n",
    "    \"BoundedMixGauss\": lambda n, params: MixGauss(*params, n),\n",
    "    \"BoundedPareto\": lambda n, params: Pareto(*params, n), \n",
    "}\n",
    "SETTINGS = {\n",
    "    \"ThreeLevels\": [[[0.7,0.2,0.1], [0.1, 1.0, 5.0]]],\n",
    "    \"BoundedPareto\": [[4, 0.1]], \n",
    "    \"BoundedMixGauss\": [[[0.7,0.2,0.1], [(0.1, 0.05), (1.0, 0.1), (5.0, 0.5)]]],\n",
    "}\n",
    "MIN_EPSILON, MAX_EPSILON = 0.1, 10.0\n",
    "BoundedFunc = lambda values: np.array([min(max(x, MIN_EPSILON), MAX_EPSILON) for x in values])\n",
    "\n",
    "total_points = 6000\n",
    "target_epsilons = BoundedFunc(GENERATE_EPSILONS[\"BoundedMixGauss\"](total_points, SETTINGS[\"BoundedMixGauss\"][0]))\n",
    "print(target_budgets)"
   ]
  },
  {
   "cell_type": "markdown",
   "metadata": {},
   "source": [
    "# Baseine: Binary Search"
   ]
  },
  {
   "cell_type": "code",
   "execution_count": null,
   "metadata": {},
   "outputs": [],
   "source": [
    "from typing import Optional\n",
    "\n",
    "# MAX_SAMPLE_RATE = 1.0\n",
    "# MIN_SAMPLE_RATE = 1e-4\n",
    "# def get_sample_rate(\n",
    "#     target_epsilon: float,\n",
    "#     target_delta: float,\n",
    "#     sigma: float,\n",
    "#     steps: Optional[int],\n",
    "#     accountant: str = \"rdp\",\n",
    "#     epsilon_tolerance: float = 0.01,\n",
    "#     **kwargs,\n",
    "# ) -> float:\n",
    "#     r\"\"\"\n",
    "#     Computes the sample rate q to reach a total budget of (target_epsilon, target_delta)\n",
    "#     at the end of epochs, with a given sample_rate\n",
    "\n",
    "#     Args:\n",
    "#         target_epsilon: the privacy budget's epsilon\n",
    "#         target_delta: the privacy budget's delta\n",
    "#         sample_rate: the sampling rate (usually batch_size / n_data)\n",
    "#         epochs: the number of epochs to run\n",
    "#         steps: number of steps to run\n",
    "#         accountant: accounting mechanism used to estimate epsilon\n",
    "#         epsilon_tolerance: precision for the binary search\n",
    "#     Returns:\n",
    "#         The noise level sigma to ensure privacy budget of (target_epsilon, target_delta)\n",
    "#     \"\"\"\n",
    "#     accountant = RDPAccountant()\n",
    "#     q_low, q_high = 0.0, 1.0\n",
    "#     accountant.history = [(sigma, q_high, steps)]\n",
    "#     eps_high = accountant.get_epsilon(delta=target_delta)\n",
    "\n",
    "#     if eps_high <= target_epsilon:\n",
    "#         return 1.0\n",
    "    \n",
    "#     accountant.history = [(sigma, MIN_SAMPLE_RATE, steps)]\n",
    "#     eps_low = accountant.get_epsilon(delta=target_delta)\n",
    "#     if eps_low > target_epsilon:\n",
    "#         raise ValueError(\"The privacy budget is too low.\")\n",
    "\n",
    "#     while np.abs(target_epsilon - eps_high) > epsilon_tolerance:\n",
    "#         q = (q_low + q_high) / 2\n",
    "#         accountant.history = [(sigma, q, steps)]\n",
    "#         eps = accountant.get_epsilon(delta=target_delta)\n",
    "\n",
    "#         if eps > target_epsilon:\n",
    "#             q_high = q\n",
    "#             eps_high = eps\n",
    "#         else:\n",
    "#             q_low = q\n",
    "\n",
    "#     return q_high\n",
    "\n",
    "# sample_rates = []\n",
    "# for e in target_epsilons:\n",
    "#     best_q = get_sample_rate(target_epsilon=e,\n",
    "#                              target_delta=1e-5,\n",
    "#                              sigma=10.0,\n",
    "#                              steps=100,\n",
    "#                              accountant=\"rdp\")\n",
    "#     sample_rates.append(best_q)\n",
    "#     print(best_q)"
   ]
  },
  {
   "cell_type": "markdown",
   "metadata": {},
   "source": [
    "# SCF"
   ]
  },
  {
   "cell_type": "code",
   "execution_count": null,
   "metadata": {},
   "outputs": [],
   "source": [
    "begin = time.time()\n",
    "curve_fn = get_sample_rate_curve(\n",
    "    target_delta = target_delta,\n",
    "    noise_multiplier=nm,\n",
    "    num_updates=num_updates,\n",
    "    num_rounds=num_rounds,\n",
    "    client_rate = CLIENT_SAMPLE_RATE\n",
    ")\n",
    "print(time.time() - begin)"
   ]
  },
  {
   "cell_type": "code",
   "execution_count": null,
   "metadata": {},
   "outputs": [],
   "source": []
  }
 ],
 "metadata": {
  "kernelspec": {
   "display_name": "Python 3 (ipykernel)",
   "language": "python",
   "name": "python3"
  },
  "language_info": {
   "codemirror_mode": {
    "name": "ipython",
    "version": 3
   },
   "file_extension": ".py",
   "mimetype": "text/x-python",
   "name": "python",
   "nbconvert_exporter": "python",
   "pygments_lexer": "ipython3",
   "version": "3.7.15"
  },
  "vscode": {
   "interpreter": {
    "hash": "9cd2817a37aac10ac04dd4bd211d68db65c45a714a600fc3dbad943ddf1ad11a"
   }
  }
 },
 "nbformat": 4,
 "nbformat_minor": 2
}
